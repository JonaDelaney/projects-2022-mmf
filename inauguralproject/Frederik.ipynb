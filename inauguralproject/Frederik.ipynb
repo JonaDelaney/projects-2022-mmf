{
 "cells": [
  {
   "cell_type": "markdown",
   "id": "71e8b2b8-a23b-4813-be99-d43fcbcde0b3",
   "metadata": {},
   "source": [
    "**Inaugural Project**"
   ]
  },
  {
   "cell_type": "code",
   "execution_count": 1,
   "id": "b05d6b85-c13f-4909-af04-a54338005b0f",
   "metadata": {
    "tags": []
   },
   "outputs": [],
   "source": [
    "from types import SimpleNamespace\n",
    "import numpy as np\n",
    "from scipy import optimize\n",
    "import matplotlib.pyplot as plt\n",
    "plt.style.use('seaborn-whitegrid')"
   ]
  },
  {
   "cell_type": "markdown",
   "id": "d3474413-5a8d-4c4c-9183-b5cf990e89e0",
   "metadata": {},
   "source": [
    "Uninsured agents have an expected value of\n",
    "$$ V_0 = pu(y-x) + (1-p)(y) $$"
   ]
  },
  {
   "cell_type": "markdown",
   "id": "f9bde5b4-f4c9-4040-8b3b-958b85377d46",
   "metadata": {},
   "source": [
    "If they choose to get insurance, the insurance company has a premium policy\n",
    "$$ \\pi(p, q) = pq, $$\n",
    "where \n",
    "$$ q \\in [0,x].$$"
   ]
  },
  {
   "cell_type": "markdown",
   "id": "896ebb95-9732-45e7-b0d5-408dd219f393",
   "metadata": {},
   "source": [
    "This means that an insured agent has the expected utility\n",
    "\n",
    "$$ V(q; \\pi) = pu (y-x + q - \\pi(p,q)) + (1-p)u(y - \\pi(p,q)), $$\n",
    "\n",
    "where\n",
    "$$ u(z) = \\frac{z^{1+\\vartheta}}{1+\\vartheta} $$"
   ]
  },
  {
   "cell_type": "markdown",
   "id": "06b558ee-274d-4f14-bde8-f2569464f700",
   "metadata": {},
   "source": [
    "**Finding the optimal q (Exercise 1)**"
   ]
  },
  {
   "cell_type": "markdown",
   "id": "f074cfb1-60c5-4924-a122-c2946237ee7a",
   "metadata": {},
   "source": [
    "First, we need a function for utility."
   ]
  },
  {
   "cell_type": "code",
   "execution_count": 2,
   "id": "8c1dbca1-68f5-435a-8602-fec1200ac286",
   "metadata": {},
   "outputs": [],
   "source": [
    "def utility(z, theta):\n",
    "    u = (z**(1+theta))/(1+theta)\n",
    "    return u"
   ]
  },
  {
   "cell_type": "markdown",
   "id": "71163d11-d74b-4e3f-ad6c-7982bcb8a3e5",
   "metadata": {},
   "source": [
    "Then we need a function for expected utility (V) when covered by insurance."
   ]
  },
  {
   "cell_type": "code",
   "execution_count": 3,
   "id": "1e6dcf15-109f-48e1-b029-0fc5bf884f90",
   "metadata": {},
   "outputs": [],
   "source": [
    "def exp_utility(q, x, y, p):\n",
    "    V = p*utility(y-x+(1-p)*q, theta) + (1-p)*utility(y-p*q, theta)\n",
    "    return V"
   ]
  },
  {
   "cell_type": "code",
   "execution_count": 4,
   "id": "3d737a54-83fe-4820-8695-29e81ff881ef",
   "metadata": {},
   "outputs": [],
   "source": [
    "x = 0.6\n",
    "y = 1\n",
    "p = 0.2\n",
    "theta = -2\n",
    "\n",
    "def q_optimize(x, y, p):\n",
    "    obj = lambda q: -exp_utility(q, x, y, p)\n",
    "    res = optimize.minimize_scalar(obj, bounds=(0, 1), method='bounded')\n",
    "    return res.x\n",
    "    \n",
    "# grid for xs\n",
    "xs = np.linspace(0.01, 0.9, 100)\n",
    "\n",
    "# grid for qstar\n",
    "qstar = np.zeros(100)\n",
    "\n",
    "# loop\n",
    "for i, x in enumerate(xs):\n",
    "    qstar[i] = q_optimize(x, y, p)"
   ]
  },
  {
   "cell_type": "code",
   "execution_count": 5,
   "id": "aac2226e-0df1-40f1-bf4c-4e94a72da3f2",
   "metadata": {},
   "outputs": [
    {
     "name": "stdout",
     "output_type": "stream",
     "text": [
      "[0.00999984 0.01898912 0.02797939 0.03696994 0.04596086 0.05494822\n",
      " 0.06393981 0.07292958 0.08191938 0.09090921 0.09989906 0.1088875\n",
      " 0.11788034 0.12686991 0.13585952 0.14484918 0.15383889 0.16282863\n",
      " 0.17181841 0.18080908 0.18979691 0.19878797 0.20777889 0.21676915\n",
      " 0.22575605 0.23474721 0.24373599 0.25272713 0.26171677 0.27070619\n",
      " 0.27969543 0.28868786 0.29767683 0.30666573 0.31565498 0.32464751\n",
      " 0.33363683 0.34262633 0.35161621 0.36060609 0.36959632 0.37858515\n",
      " 0.38757636 0.39656588 0.40555421 0.4145455  0.42353524 0.43252508\n",
      " 0.4415149  0.45050473 0.45949455 0.46848438 0.47747423 0.48646411\n",
      " 0.49545513 0.50444509 0.51343503 0.52242494 0.53141483 0.54040468\n",
      " 0.54939452 0.55838434 0.56737359 0.57636352 0.58535345 0.59434339\n",
      " 0.60333331 0.61232172 0.62131271 0.63030248 0.63929409 0.64828289\n",
      " 0.65727268 0.66626256 0.67525274 0.68424372 0.69323182 0.70222311\n",
      " 0.7112111  0.72020198 0.72919188 0.73818179 0.74717295 0.75616299\n",
      " 0.76515091 0.7741413  0.78313095 0.79212034 0.80111271 0.81010118\n",
      " 0.81909081 0.82808089 0.83707061 0.8460605  0.8550504  0.86404032\n",
      " 0.87303024 0.88202017 0.8910111  0.89999994]\n"
     ]
    }
   ],
   "source": [
    "print(qstar)"
   ]
  },
  {
   "cell_type": "code",
   "execution_count": 6,
   "id": "501449fb-28c5-4808-9a50-273799105833",
   "metadata": {},
   "outputs": [
    {
     "data": {
      "text/plain": [
       "Text(0.5, 1.0, 'Optimal insurance coverage, $q^*$')"
      ]
     },
     "execution_count": 6,
     "metadata": {},
     "output_type": "execute_result"
    },
    {
     "data": {
      "image/png": "[encoded data removed]",
      "text/plain": [
       "<Figure size 432x288 with 1 Axes>"
      ]
     },
     "metadata": {},
     "output_type": "display_data"
    }
   ],
   "source": [
    "fig = plt.figure()\n",
    "\n",
    "ax = fig.add_subplot(1,1,1)\n",
    "ax.plot(xs, qstar,'-')\n",
    "ax.set_xlabel('Monetary loss, x')\n",
    "ax.set_ylabel('Coverage amount, q')\n",
    "ax.set_title('Optimal insurance coverage, $q^*$')"
   ]
  },
  {
   "cell_type": "markdown",
   "id": "57b182b2-3486-4d3c-9b89-477ee0a8a834",
   "metadata": {},
   "source": [
    "**Optimal $\\pi$ (Exercise 2)**"
   ]
  },
  {
   "cell_type": "code",
   "execution_count": 7,
   "id": "d3bef921-2e2a-48d5-ae96-02b9f8c1bb33",
   "metadata": {},
   "outputs": [],
   "source": [
    "x = 0.6\n",
    "y = 1\n",
    "p = 0.2\n",
    "theta = -2\n",
    "def V_pi(pi, q, x, y, p):\n",
    "    return p*utility(y-x+q-pi, theta) + (1-p)*utility(y-pi, theta)"
   ]
  },
  {
   "cell_type": "code",
   "execution_count": 8,
   "id": "531d10a5-84fc-45fb-ab70-b9bf21b34554",
   "metadata": {},
   "outputs": [],
   "source": [
    "V0 = V_pi(0, 0, x, y, p)"
   ]
  },
  {
   "cell_type": "code",
   "execution_count": 9,
   "id": "c4bf55ea-1792-4a33-acf4-d3f0f08f3c68",
   "metadata": {},
   "outputs": [],
   "source": [
    "def optimal_pi(q, x, y, p, V0):\n",
    "    # objective function\n",
    "    def obj(pi):\n",
    "        return V_pi(pi, q, x, y, p) - V0\n",
    "    # optimize\n",
    "    res = optimize.root(obj, 0.1)\n",
    "    return res.x\n",
    "\n",
    "# grid for qs between 0.01 and 0.6\n",
    "qs = np.linspace(0.01, 0.6, 100)\n",
    "\n",
    "# grid for pi calculations\n",
    "pis = np.zeros(100)\n",
    "\n",
    "# loop\n",
    "for i, q in enumerate(qs):\n",
    "    pis[i] = optimal_pi(q, x, y, p, V0)"
   ]
  },
  {
   "cell_type": "code",
   "execution_count": 10,
   "id": "fb301c4d-5ff1-4654-bd47-dcb0f511ce81",
   "metadata": {},
   "outputs": [
    {
     "data": {
      "text/plain": [
       "Text(0.5, 1.0, 'Optimal $\\\\pi$')"
      ]
     },
     "execution_count": 10,
     "metadata": {},
     "output_type": "execute_result"
    },
    {
     "data": {
      "image/png": "[encoded data removed]",
      "text/plain": [
       "<Figure size 432x288 with 1 Axes>"
      ]
     },
     "metadata": {},
     "output_type": "display_data"
    }
   ],
   "source": [
    "fig = plt.figure()\n",
    "\n",
    "ax = fig.add_subplot(1,1,1)\n",
    "ax.plot(qs, pis,'-')\n",
    "ax.set_xlabel('q')\n",
    "ax.set_ylabel('$\\pi$')\n",
    "ax.set_title('Optimal $\\pi$')"
   ]
  },
  {
   "cell_type": "markdown",
   "id": "c96cbc41-5515-4c54-8b1a-a5fb6c7d5221",
   "metadata": {},
   "source": [
    "**Exercise 3**"
   ]
  },
  {
   "cell_type": "code",
   "execution_count": 11,
   "id": "01a53fee-985d-44d6-9a9e-40a33b566714",
   "metadata": {},
   "outputs": [],
   "source": [
    "alpha = 2\n",
    "beta = 7\n",
    "N = 10000"
   ]
  },
  {
   "cell_type": "code",
   "execution_count": 12,
   "id": "e9dc12d3-2d60-4e59-ab7b-4868d49aa5ae",
   "metadata": {},
   "outputs": [],
   "source": [
    "def g(x, y, gamma, pi):\n",
    "    return utility(y-(1-gamma)*x-pi, theta)"
   ]
  },
  {
   "cell_type": "code",
   "execution_count": 13,
   "id": "81d9bf15-fa8d-4178-a29e-88365f1b4ad8",
   "metadata": {},
   "outputs": [],
   "source": [
    "def monte_carlo(y, p, gamma, pi, N):\n",
    "    np.random.seed(123)\n",
    "    # Draws of X\n",
    "    xlist = np.random.beta(alpha, beta, N)\n",
    "    return np.mean(g(xlist, y, gamma, pi))"
   ]
  },
  {
   "cell_type": "markdown",
   "id": "83f0e87d-88f5-4dc0-a647-b472b5820015",
   "metadata": {},
   "source": [
    "Finding the most preferable option"
   ]
  },
  {
   "cell_type": "code",
   "execution_count": 16,
   "id": "186e5cb2-b9fc-4fbb-a13b-b70b43ac36a7",
   "metadata": {},
   "outputs": [
    {
     "name": "stdout",
     "output_type": "stream",
     "text": [
      "-1.2858562100115782\n"
     ]
    }
   ],
   "source": [
    "# gamma = 0.9, pi = 0.2\n",
    "print(monte_carlo(y, p, 0.9, 0.2, N))"
   ]
  },
  {
   "cell_type": "code",
   "execution_count": 17,
   "id": "55f0ed0f-29d1-40e4-a0ee-420dcaa0a5fa",
   "metadata": {},
   "outputs": [
    {
     "name": "stdout",
     "output_type": "stream",
     "text": [
      "-1.2965582462632568\n"
     ]
    }
   ],
   "source": [
    "# gamma = 0.45, pi = 0.1\n",
    "print(monte_carlo(y, p, 0.45, 0.1, N))"
   ]
  }
 ],
 "metadata": {
  "kernelspec": {
   "display_name": "Python 3 (ipykernel)",
   "language": "python",
   "name": "python3"
  },
  "language_info": {
   "codemirror_mode": {
    "name": "ipython",
    "version": 3
   },
   "file_extension": ".py",
   "mimetype": "text/x-python",
   "name": "python",
   "nbconvert_exporter": "python",
   "pygments_lexer": "ipython3",
   "version": "3.9.7"
  }
 },
 "nbformat": 4,
 "nbformat_minor": 5
}

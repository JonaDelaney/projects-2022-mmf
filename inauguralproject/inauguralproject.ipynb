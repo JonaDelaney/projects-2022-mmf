{
 "cells": [
  {
   "cell_type": "markdown",
   "metadata": {
    "tags": []
   },
   "source": [
    "# Inaugural Project \n",
    "\n",
    "\n",
    "\n"
   ]
  },
  {
   "cell_type": "markdown",
   "metadata": {
    "tags": []
   },
   "source": [
    "For this inaugural project, we will be working with a benchmark model of insurance policies, namely the Mossin's Model. \n",
    "\n",
    "The agent holds assets $y$, and and may suffer a monetary loss $x$. The loss incurs with probability $p$, and utility of the agents is given by $u(\\cdot)$. \n",
    "\n",
    "The agents expected value while not insured is given by $$V_0=pu(y-x)+(1-p)u(y),$$\n",
    "\n",
    "An insurance company offers insurance coverage $q$ at a premium $\\pi$. The covered amount can not exceed the monetary loss, thus $q\\in [0,x]$. \n",
    "\n",
    "Insurance companys premium is $$\\pi(p,q)=pq,$$\n",
    "\n",
    "The agents expected value while insured is given by $$V(q;\\pi)= pu (y-x + q - \\pi(p,q)) + (1-p)u(y - \\pi(p,q)), $$\n",
    "\n",
    "Utility of the agent is given by $$u(z)=\\frac{z^{1+\\vartheta}}{1+\\vartheta}$$\n",
    "\n",
    "\n",
    "We have the following parameters given:\n",
    "$$y=1, p=0.2, \\vartheta=-2$$\n"
   ]
  },
  {
   "cell_type": "markdown",
   "metadata": {},
   "source": [
    "Initially, we import the packages and functions required for the analysis. "
   ]
  },
  {
   "cell_type": "code",
   "execution_count": 1,
   "metadata": {
    "tags": []
   },
   "outputs": [],
   "source": [
    "from types import SimpleNamespace\n",
    "import numpy as np\n",
    "from scipy import optimize\n",
    "import matplotlib.pyplot as plt\n",
    "plt.style.use('seaborn-whitegrid')\n",
    "import inauguralproject as ip\n"
   ]
  },
  {
   "cell_type": "markdown",
   "metadata": {},
   "source": [
    "## Question 1"
   ]
  },
  {
   "cell_type": "markdown",
   "metadata": {},
   "source": [
    "$i)$\n",
    "In this question we are to construct a function that takes $(x, y, p)$ as arguments and returns the agents optimal insurance coverage $q^*$.\n",
    "\n",
    "First we define the function for the agents Utility and expected value. "
   ]
  },
  {
   "cell_type": "code",
   "execution_count": 2,
   "metadata": {},
   "outputs": [],
   "source": [
    "def utility(z, theta):\n",
    "    u = (z**(1+theta))/(1+theta)\n",
    "    return u\n",
    "\n",
    "def exp_utility(q, x, y, p):\n",
    "    V = p*utility(y-x+(1-p)*q, theta) + (1-p)*utility(y-p*q, theta)\n",
    "    return V\n"
   ]
  },
  {
   "cell_type": "markdown",
   "metadata": {},
   "source": [
    "Next we define the parameters as given in the problem. We define the function $q\\_optimize$, using the Lambda syntax to evaluate the expression for $q$. From the Scipy package we use the optimize.mimimize_scalar, which will maximize the objective within the given bounds. Since this maximizes, and we are trying to minimize the function, the utility function is negated in the Lambda syntax. The bounds are set between 0 and 1, since the agents assets are $y=1$, and the loss can not be greater than the current endowment, and therefore the coverage can not exceed this either. "
   ]
  },
  {
   "cell_type": "code",
   "execution_count": 15,
   "metadata": {},
   "outputs": [],
   "source": [
    "y = 1\n",
    "p = 0.2\n",
    "theta = -2\n",
    "\n",
    "def q_optimize(x, y, p):\n",
    "    obj = lambda q: -exp_utility(q, x, y, p)\n",
    "    res = optimize.minimize_scalar(obj, bounds=(0, 1), method='bounded')\n",
    "    return res.x\n"
   ]
  },
  {
   "cell_type": "markdown",
   "metadata": {},
   "source": [
    "$ii) \\& iii)$\n",
    "In these subquestion, we are to create a grid of x, in the range $[0.01, 0.9]$. For that we use the $linspace$ function from $numpy$, which creates 100 random observations between the two given bounds. We likewise create a grid of 100 observations for $q^*$, which only consists of zeros. This grid will be used to plug in the results from the $q\\_optimize$ function defined above, which is done in the enumerate function below.  "
   ]
  },
  {
   "cell_type": "code",
   "execution_count": 16,
   "metadata": {},
   "outputs": [],
   "source": [
    "# grid for xs\n",
    "xs = np.linspace(0.01, 0.9, 100)\n",
    "\n",
    "# grid for qstar\n",
    "qstar = np.zeros(100)\n",
    "\n",
    "# loop\n",
    "for i, x in enumerate(xs):\n",
    "    qstar[i] = q_optimize(x, y, p)"
   ]
  },
  {
   "cell_type": "markdown",
   "metadata": {},
   "source": [
    "$iiii)$ For the plot, we have the monetary loss $x$, on the x-axis, and the coverage amount $q$, on the y-axis. The plot shows a perfect $45^{\\circ}$ line between the two axis, suggesting that the optimal coverage for the agent should equal his monetary loss."
   ]
  },
  {
   "cell_type": "code",
   "execution_count": 17,
   "metadata": {},
   "outputs": [
    {
     "data": {
      "text/plain": [
       "Text(0.5, 1.0, 'Optimal insurance coverage, $q^*$')"
      ]
     },
     "execution_count": 17,
     "metadata": {},
     "output_type": "execute_result"
    },
    {
     "data": {
      "image/png": "[encoded data removed]",
      "text/plain": [
       "<Figure size 432x288 with 1 Axes>"
      ]
     },
     "metadata": {},
     "output_type": "display_data"
    }
   ],
   "source": [
    "fig = plt.figure()\n",
    "\n",
    "ax = fig.add_subplot(1,1,1)\n",
    "ax.plot(xs, qstar,'-', label='$q^*$')\n",
    "ax.legend(loc='upper left')\n",
    "ax.set_xlabel('Monetary loss, x')\n",
    "ax.set_ylabel('Coverage amount, q')\n",
    "ax.set_title('Optimal insurance coverage, $q^*$')\n"
   ]
  },
  {
   "cell_type": "markdown",
   "metadata": {},
   "source": [
    "## Question 2"
   ]
  },
  {
   "cell_type": "markdown",
   "metadata": {},
   "source": [
    "For this section, we are to find the acceptable contracts from the POV of the agent. FOr this, we make a function to calculate which values of the insurance premium $\\pi$, will make the agent indifferent. "
   ]
  },
  {
   "cell_type": "code",
   "execution_count": 5,
   "metadata": {},
   "outputs": [],
   "source": [
    "x = 0.6\n",
    "\n",
    "# grid for qs between 0.01 and 0.6\n",
    "qs = np.linspace(0.01, 0.6, 100)\n",
    "\n",
    "def V_pi(pi, q, x, y, p):\n",
    "    return p*utility(y-x+q-pi, theta) + (1-p)*utility(y-pi, theta)\n",
    "\n",
    "V0 = V_pi(0, 0, x, y, p)\n"
   ]
  },
  {
   "cell_type": "code",
   "execution_count": 6,
   "metadata": {},
   "outputs": [],
   "source": [
    "def optimal_pi(q, x, y, p, V0):\n",
    "    # objective function\n",
    "    def obj(pi):\n",
    "        return V_pi(pi, q, x, y, p) - V0\n",
    "    # optimize\n",
    "    res = optimize.root(obj, 0.1)\n",
    "    return res.x\n",
    "\n",
    "\n",
    "\n",
    "# grid for pi calculations\n",
    "pis = np.zeros(100)\n",
    "pi_norm = p*qs\n",
    "# loop\n",
    "for i, q in enumerate(qs):\n",
    "    pis[i] = optimal_pi(q, x, y, p, V0)\n",
    "    "
   ]
  },
  {
   "cell_type": "code",
   "execution_count": 7,
   "metadata": {},
   "outputs": [
    {
     "data": {
      "text/plain": [
       "Text(0.5, 1.0, 'Set of feasible premiums for a given $q$')"
      ]
     },
     "execution_count": 7,
     "metadata": {},
     "output_type": "execute_result"
    },
    {
     "data": {
      "image/png": "[encoded data removed]",
      "text/plain": [
       "<Figure size 432x288 with 1 Axes>"
      ]
     },
     "metadata": {},
     "output_type": "display_data"
    }
   ],
   "source": [
    "fig = plt.figure()\n",
    "\n",
    "ax = fig.add_subplot(1,1,1)\n",
    "ax.plot(qs, pis,'--', color='black', label='$\\widetilde{\\pi}$')\n",
    "ax.plot(qs, pi_norm, '--', color='red', label='$\\pi (p,q)$')\n",
    "ax.fill_between(qs, pis, pi_norm, color='none', hatch='///', edgecolor='g', label='Feasible premiums')\n",
    "ax.legend(loc='upper left')\n",
    "ax.set_xlabel('$q$')\n",
    "ax.set_ylabel('$\\pi$')\n",
    "ax.set_title('Set of feasible premiums for a given $q$')"
   ]
  },
  {
   "cell_type": "markdown",
   "metadata": {},
   "source": [
    "## Question 3"
   ]
  },
  {
   "cell_type": "markdown",
   "metadata": {},
   "source": [
    "Explain your code and procedure"
   ]
  },
  {
   "cell_type": "code",
   "execution_count": 8,
   "metadata": {},
   "outputs": [],
   "source": [
    "alpha = 2\n",
    "beta = 7\n",
    "N = 10000"
   ]
  },
  {
   "cell_type": "code",
   "execution_count": 9,
   "metadata": {},
   "outputs": [],
   "source": [
    "def g(x, y, gamma, pi):\n",
    "    return utility(y-(1-gamma)*x-pi, theta)"
   ]
  },
  {
   "cell_type": "code",
   "execution_count": 10,
   "metadata": {},
   "outputs": [],
   "source": [
    "def monte_carlo(y, p, gamma, pi, N):\n",
    "    np.random.seed(123)\n",
    "    # Draws of X\n",
    "    xlist = np.random.beta(alpha, beta, N)\n",
    "    return np.mean(g(xlist, y, gamma, pi))"
   ]
  },
  {
   "cell_type": "code",
   "execution_count": 11,
   "metadata": {},
   "outputs": [
    {
     "name": "stdout",
     "output_type": "stream",
     "text": [
      "-1.2858562100115782\n"
     ]
    }
   ],
   "source": [
    "# gamma = 0.9, pi = 0.2\n",
    "print(monte_carlo(y, p, 0.9, 0.2, N))"
   ]
  },
  {
   "cell_type": "code",
   "execution_count": 12,
   "metadata": {},
   "outputs": [
    {
     "name": "stdout",
     "output_type": "stream",
     "text": [
      "-1.2965582462632568\n"
     ]
    }
   ],
   "source": [
    "# gamma = 0.45, pi = 0.1\n",
    "print(monte_carlo(y, p, 0.45, 0.1, N))"
   ]
  },
  {
   "cell_type": "markdown",
   "metadata": {},
   "source": [
    "## Question 4"
   ]
  },
  {
   "cell_type": "code",
   "execution_count": 13,
   "metadata": {},
   "outputs": [],
   "source": [
    "pi = 0.1"
   ]
  },
  {
   "cell_type": "code",
   "execution_count": 14,
   "metadata": {},
   "outputs": [
    {
     "name": "stdout",
     "output_type": "stream",
     "text": [
      "0.21967064885141938\n"
     ]
    }
   ],
   "source": [
    "def optimal_pi2(y, p, gamma, pi, N, V0):\n",
    "    def obj(pi): \n",
    "        return monte_carlo(y, p, gamma, pi, N) - V0\n",
    "    # Optimize\n",
    "    res = optimize.root(obj, 0.1, method=\"broyden1\")\n",
    "    return res.x\n",
    "\n",
    "print(optimal_pi2(y, p, 0.95, pi, N, V0))"
   ]
  },
  {
   "cell_type": "markdown",
   "metadata": {},
   "source": [
    "ADD CONCISE CONLUSION."
   ]
  }
 ],
 "metadata": {
  "kernelspec": {
   "display_name": "Python 3 (ipykernel)",
   "language": "python",
   "name": "python3"
  },
  "language_info": {
   "codemirror_mode": {
    "name": "ipython",
    "version": 3
   },
   "file_extension": ".py",
   "mimetype": "text/x-python",
   "name": "python",
   "nbconvert_exporter": "python",
   "pygments_lexer": "ipython3",
   "version": "3.9.7"
  },
  "toc-autonumbering": true
 },
 "nbformat": 4,
 "nbformat_minor": 4
}

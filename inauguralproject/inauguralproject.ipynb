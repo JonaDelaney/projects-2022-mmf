{
 "cells": [
  {
   "cell_type": "markdown",
   "metadata": {
    "tags": []
   },
   "source": [
    "# Inaugural Project \n",
    "\n",
    "\n",
    "\n"
   ]
  },
  {
   "cell_type": "markdown",
   "metadata": {
    "tags": []
   },
   "source": [
    "For this inaugural project, we will be working with a benchmark model of insurance policies, namely the Mossin's Model. \n",
    "\n",
    "The agent holds assets $y$, and and may suffer a monetary loss $x$. The loss incurs with probability $p$, and utility of the agents is given by $u(\\cdot)$. \n",
    "\n",
    "The agents expected value while not insured is given by $$V_0=pu(y-x)+(1-p)u(y),$$\n",
    "\n",
    "An insurance company offers insurance coverage $q$ at a premium $\\pi$. The covered amount can not exceed the monetary loss, thus $q\\in [0,x]$. \n",
    "\n",
    "Insurance companys premium is $$\\pi(p,q)=pq,$$\n",
    "\n",
    "The agents expected value while insured is given by $$V(q;\\pi)= pu (y-x + q - \\pi(p,q)) + (1-p)u(y - \\pi(p,q)), $$\n",
    "\n",
    "Utility of the agent is given by $$u(z)=\\frac{z^{1+\\vartheta}}{1+\\vartheta}$$\n",
    "\n",
    "\n",
    "We have the following parameters given:\n",
    "$$y=1, p=0.2, \\vartheta=-2$$\n"
   ]
  },
  {
   "cell_type": "markdown",
   "metadata": {},
   "source": [
    "Initially, we import the packages and functions required for the analysis. "
   ]
  },
  {
   "cell_type": "code",
   "execution_count": 1,
   "metadata": {
    "tags": []
   },
   "outputs": [],
   "source": [
    "from types import SimpleNamespace\n",
    "import numpy as np\n",
    "from scipy import optimize\n",
    "import matplotlib.pyplot as plt\n",
    "plt.style.use('seaborn-whitegrid')\n",
    "import inauguralproject as ip"
   ]
  },
  {
   "cell_type": "markdown",
   "metadata": {},
   "source": [
    "## Question 1"
   ]
  },
  {
   "cell_type": "markdown",
   "metadata": {},
   "source": [
    "$i)$\n",
    "In this question we are to construct a function that takes $(x, y, p)$ as arguments and returns the agents optimal insurance coverage $q^*$.\n",
    "\n",
    "First we define the function for the agents Utility and expected value. "
   ]
  },
  {
   "cell_type": "code",
   "execution_count": 24,
   "metadata": {},
   "outputs": [
    {
     "name": "stdout",
     "output_type": "stream",
     "text": [
      "<class 'float'>\n"
     ]
    }
   ],
   "source": [
    "def utility(z, theta):\n",
    "    u = (z**(1+theta))/(1+theta)\n",
    "    return u\n",
    "\n",
    "def exp_utility(q, x, y, p):\n",
    "    V = p*utility(y-x+(1-p)*q, theta) + (1-p)*utility(y-p*q, theta)\n",
    "    return V\n"
   ]
  },
  {
   "cell_type": "markdown",
   "metadata": {},
   "source": [
    "Next we define the parameters as given in the problem. We define the function $q\\_optimize$, using the Lambda syntax to evaluate the expression for $q$. From the Scipy package we use the optimize.mimimize_scalar, which will maximize the objective within the given bounds. Since this maximizes, and we are trying to minimize the function, the utility function is negated in the Lambda syntax. The bounds are set between 0 and 1, since the agents assets are $y=1$, and the loss can not be greater than the current endowment, and therefore the coverage can not exceed this either. "
   ]
  },
  {
   "cell_type": "code",
   "execution_count": 3,
   "metadata": {},
   "outputs": [],
   "source": [
    "y = 1\n",
    "p = 0.2\n",
    "theta = -2\n",
    "\n",
    "def q_optimize(x, y, p):\n",
    "    obj = lambda q: -exp_utility(q, x, y, p)\n",
    "    res = optimize.minimize_scalar(obj, bounds=(0, 1), method='bounded')\n",
    "    return res.x\n"
   ]
  },
  {
   "cell_type": "markdown",
   "metadata": {},
   "source": [
    "$ii)$ \\& $iii)$\n",
    "In these subquestions, we are to create a grid of x, in the range $[0.01, 0.9]$. For that we use the $linspace$ function from $numpy$, which creates 100 random observations between the two given values. We likewise create a grid of 100 observations for $q^*$, which only consists of zeros. This grid will be used to plug in the results from the $q\\_optimize$ function defined above, which is done in the enumerate function below.  "
   ]
  },
  {
   "cell_type": "code",
   "execution_count": 4,
   "metadata": {},
   "outputs": [],
   "source": [
    "# grid for xs\n",
    "xs = np.linspace(0.01, 0.9, 100)\n",
    "\n",
    "# grid for qstar\n",
    "qstar = np.zeros(100)\n",
    "\n",
    "# loop\n",
    "for i, x in enumerate(xs):\n",
    "    qstar[i] = q_optimize(x, y, p)"
   ]
  },
  {
   "cell_type": "markdown",
   "metadata": {},
   "source": [
    "$iiii)$ For the plot, we have the monetary loss $x$, on the x-axis, and the coverage amount $q$, on the y-axis. The plot shows a perfect $45^{\\circ}$ line between the two axis, suggesting that the optimal coverage for the agent should equal his monetary loss."
   ]
  },
  {
   "cell_type": "code",
   "execution_count": 5,
   "metadata": {},
   "outputs": [
    {
     "data": {
      "text/plain": [
       "Text(0.5, 1.0, 'Optimal insurance coverage, $q^*$')"
      ]
     },
     "execution_count": 5,
     "metadata": {},
     "output_type": "execute_result"
    },
    {
     "data": {
      "image/png": "[encoded data removed]",
      "text/plain": [
       "<Figure size 432x288 with 1 Axes>"
      ]
     },
     "metadata": {},
     "output_type": "display_data"
    }
   ],
   "source": [
    "fig = plt.figure()\n",
    "\n",
    "ax = fig.add_subplot(1,1,1)\n",
    "ax.plot(xs, qstar,'-', label='$q^*$')\n",
    "ax.legend(loc='upper left')\n",
    "ax.set_xlabel('Monetary loss, x')\n",
    "ax.set_ylabel('Coverage amount, q')\n",
    "ax.set_title('Optimal insurance coverage, $q^*$')\n"
   ]
  },
  {
   "cell_type": "markdown",
   "metadata": {},
   "source": [
    "## Question 2"
   ]
  },
  {
   "cell_type": "markdown",
   "metadata": {},
   "source": [
    "For this section, we are to find the acceptable contracts from the POV of the agent. For this, we make a function to calculate which values of the insurance premium $\\pi$ will make the agent indifferent. "
   ]
  },
  {
   "cell_type": "markdown",
   "metadata": {},
   "source": [
    "To start off with, we define the x given in the problem, and then create a grid for the insurance coverage in the same fashion as in the previous question. \n",
    "\n",
    "Furthermore, we define the expected values anew, one for the insured case and one for the uninsured case, in order to find for which $\\pi$'s the difference is zero. "
   ]
  },
  {
   "cell_type": "code",
   "execution_count": 25,
   "metadata": {},
   "outputs": [
    {
     "name": "stdout",
     "output_type": "stream",
     "text": [
      "<class 'float'>\n"
     ]
    }
   ],
   "source": [
    "x = 0.6\n",
    "\n",
    "# grid for qs between 0.01 and 0.6\n",
    "qs = np.linspace(0.01, 0.6, 100)\n",
    "\n",
    "def V_pi(pi, q, x, y, p):\n",
    "    return p*utility(y-x+q-pi, theta) + (1-p)*utility(y-pi, theta)\n",
    "\n",
    "V0 = V_pi(0, 0, x, y, p)\n"
   ]
  },
  {
   "cell_type": "markdown",
   "metadata": {},
   "source": [
    "$ii)$ We define a function for the optimal insurance premia, for which the objective function is the diff, evaluated for $\\pi$. We use the $optimize.root$ function from $numpy$, which will return the values of $\\pi$, for which the difference between $V_\\pi$ and $V_0$ is zero - and thereby, the agent is indifferent. \n",
    "\n",
    "Next, we create an empty grid with 100 observations, to input the results from the optimal $\\pi$. We need the insurance companys insurance premia, which will make the company break even, which is defined as the variable $pi\\_norm$"
   ]
  },
  {
   "cell_type": "code",
   "execution_count": 7,
   "metadata": {},
   "outputs": [],
   "source": [
    "def optimal_pi(q, x, y, p, V0):\n",
    "    # objective function\n",
    "    def obj(pi):\n",
    "        return V_pi(pi, q, x, y, p) - V0\n",
    "    # optimize\n",
    "    res = optimize.root(obj, 0.1)\n",
    "    return res.x\n",
    "\n",
    "\n",
    "\n",
    "# grid for pi calculations\n",
    "pis = np.zeros(100)\n",
    "pi_norm = p*qs\n",
    "# loop\n",
    "for i, q in enumerate(qs):\n",
    "    pis[i] = optimal_pi(q, x, y, p, V0)\n",
    "    "
   ]
  },
  {
   "cell_type": "markdown",
   "metadata": {},
   "source": [
    "Next we plot the results."
   ]
  },
  {
   "cell_type": "code",
   "execution_count": 8,
   "metadata": {},
   "outputs": [
    {
     "data": {
      "text/plain": [
       "Text(0.5, 1.0, 'Set of feasible premia for a given $q$')"
      ]
     },
     "execution_count": 8,
     "metadata": {},
     "output_type": "execute_result"
    },
    {
     "data": {
      "image/png": "[encoded data removed]",
      "text/plain": [
       "<Figure size 432x288 with 1 Axes>"
      ]
     },
     "metadata": {},
     "output_type": "display_data"
    }
   ],
   "source": [
    "fig = plt.figure()\n",
    "\n",
    "ax = fig.add_subplot(1,1,1)\n",
    "ax.plot(qs, pis,'--', color='black', label='$\\widetilde{\\pi}$')\n",
    "ax.plot(qs, pi_norm, '--', color='red', label='$\\pi (p,q)$')\n",
    "ax.fill_between(qs, pis, pi_norm, color='none', hatch='///', edgecolor='g', label='Feasible premiums')\n",
    "ax.legend(loc='upper left')\n",
    "ax.set_xlabel('$q$')\n",
    "ax.set_ylabel('$\\pi$')\n",
    "ax.set_title('Set of feasible premia for a given $q$')"
   ]
  },
  {
   "cell_type": "markdown",
   "metadata": {},
   "source": [
    "The graph is created using the $matplotlib$ package. The calculated $\\widetilde{\\pi}$'s are presented on the black graph, and the $\"break-even\"$ $\\pi$'s are the red graph. Since we are interested in all the feasible premia, ie. the premia where the agent is either indifferent, or better off, by having insurance, and where the company is at least covering the costs. This leaves us with all the area below the black dotted line and above the red dotted line. \n",
    "\n",
    "This area of feasible premia is thus represented with the green lines. "
   ]
  },
  {
   "cell_type": "markdown",
   "metadata": {},
   "source": [
    "## Question 3"
   ]
  },
  {
   "cell_type": "markdown",
   "metadata": {},
   "source": [
    "We now consider a modified setup, with the monetary loss $x$ drawn from a beta distribution, and the coverage $q$ being a fraction of this loss. \n",
    "$$q=\\gamma x, \\quad \\gamma \\in [0,1]$$\n",
    "\n",
    "$$x\\sim Beta(\\alpha,\\beta), \\quad \\alpha=2, \\beta=7$$\n",
    "\n",
    "Thus, the agents value is \n",
    "$$V(\\gamma, \\pi)=\\int_{0}^{1}u(y-(1-\\gamma)x-\\pi)f(x)dx$$"
   ]
  },
  {
   "cell_type": "markdown",
   "metadata": {},
   "source": [
    "We are to construct a function that computes $V(\\gamma, \\pi)$ by Monte Carlo integration using at least 10.000 draws. \n",
    "\n",
    "First, we define the arguments that are given."
   ]
  },
  {
   "cell_type": "code",
   "execution_count": 9,
   "metadata": {},
   "outputs": [],
   "source": [
    "alpha = 2\n",
    "beta = 7\n",
    "N = 10000"
   ]
  },
  {
   "cell_type": "markdown",
   "metadata": {},
   "source": [
    "Next, we define the function for altered value. "
   ]
  },
  {
   "cell_type": "code",
   "execution_count": 10,
   "metadata": {},
   "outputs": [],
   "source": [
    "def g(x, y, gamma, pi):\n",
    "    return utility(y-(1-gamma)*x-pi, theta)"
   ]
  },
  {
   "cell_type": "markdown",
   "metadata": {},
   "source": [
    "To define the function, we make use of the function $random.beta$ from the numpy package, which draws $N$ number of draws from the beta distribution determined by the given $\\alpha$ and $\\beta$.  \n",
    "\n",
    "Since we have 10.000 draws, the law of large numbers ensures that the mean value of the value function equals the integral. Therefore, we need only take the mean value instead of calculating the integral."
   ]
  },
  {
   "cell_type": "code",
   "execution_count": 11,
   "metadata": {},
   "outputs": [],
   "source": [
    "def monte_carlo(y, p, gamma, pi, N):\n",
    "    np.random.seed(123)\n",
    "    # Draws of X\n",
    "    xlist = np.random.beta(alpha, beta, N)\n",
    "    return np.mean(g(xlist, y, gamma, pi))"
   ]
  },
  {
   "cell_type": "markdown",
   "metadata": {},
   "source": [
    "We are calculating the value for the agent for $\\gamma =0.9, \\pi = 0.2$ and for $\\gamma =0.45, \\pi =0.1$ ie. coverage of 90% of the loss, with a given insurance premium, versus coverage of 45% of the loss, with half the insurance premium. We are to find out which insurance policy is most preferable for the agent, judged by his expected value. "
   ]
  },
  {
   "cell_type": "code",
   "execution_count": 12,
   "metadata": {},
   "outputs": [
    {
     "name": "stdout",
     "output_type": "stream",
     "text": [
      "-1.2858562100115782\n"
     ]
    }
   ],
   "source": [
    "# gamma = 0.9, pi = 0.2\n",
    "print(monte_carlo(y, p, 0.9, 0.2, N))"
   ]
  },
  {
   "cell_type": "code",
   "execution_count": 13,
   "metadata": {},
   "outputs": [
    {
     "name": "stdout",
     "output_type": "stream",
     "text": [
      "-1.2965582462632568\n"
     ]
    }
   ],
   "source": [
    "# gamma = 0.45, pi = 0.1\n",
    "print(monte_carlo(y, p, 0.45, 0.1, N))"
   ]
  },
  {
   "cell_type": "markdown",
   "metadata": {},
   "source": [
    "As it can be seen above, for the bigger and more expensive insurance policy, the expected value is $-1.285$.\n",
    "The expected value for the lesser and cheaper insurance policy is $-1.296$, meaning that the insurance policy covering 90% of the loss is of the highest expected value, and therefore is the most preferable insurance policy for the agent."
   ]
  },
  {
   "cell_type": "markdown",
   "metadata": {},
   "source": [
    "## Question 4"
   ]
  },
  {
   "cell_type": "markdown",
   "metadata": {},
   "source": [
    "In this question, we are to find the optimal insurance premium given the agents request of a 95% coverage. This problem is very similar to the second question, and will thus be solved similarly.\n",
    "\n",
    "We have the monte carlo simulation from question 3, which we then apply the $optimize.root$ function to, with the object being $\\pi$. This will calculate the values of $\\pi$ resulting in the difference between the expected value estimated by the Monte Carlo, and the expected value not having insurance, being zero. \n",
    "\n",
    "Next, we print the optimal $\\pi$ for the 95% coverage insurance policy requested by the agent."
   ]
  },
  {
   "cell_type": "code",
   "execution_count": 14,
   "metadata": {},
   "outputs": [
    {
     "name": "stdout",
     "output_type": "stream",
     "text": [
      "0.21967064885141938\n"
     ]
    }
   ],
   "source": [
    "pi = 0.1\n",
    "def optimal_pi2(y, p, gamma, pi, N, V0):\n",
    "    def obj(pi): \n",
    "        return monte_carlo(y, p, gamma, pi, N) - V0\n",
    "    # Optimize\n",
    "    res = optimize.root(obj, 0.1, method=\"broyden1\")\n",
    "    return res.x\n",
    "\n",
    "print(optimal_pi2(y, p, 0.95, pi, N, V0))"
   ]
  },
  {
   "cell_type": "markdown",
   "metadata": {},
   "source": [
    "From the result above, the optimal insurance policy premium is $\\pi^*=0.22$ for the coverage requested by the agent. \n",
    "\n",
    "This is not the best value for the agent though. As seen below, the value is less than that of a coverage of 90% and a premium at 0.2. "
   ]
  },
  {
   "cell_type": "code",
   "execution_count": 15,
   "metadata": {},
   "outputs": [
    {
     "name": "stdout",
     "output_type": "stream",
     "text": [
      "-1.3000003648854108\n"
     ]
    }
   ],
   "source": [
    "print(monte_carlo(y, p, 0.95, 0.21967064885141938, N))"
   ]
  }
 ],
 "metadata": {
  "kernelspec": {
   "display_name": "Python 3 (ipykernel)",
   "language": "python",
   "name": "python3"
  },
  "language_info": {
   "codemirror_mode": {
    "name": "ipython",
    "version": 3
   },
   "file_extension": ".py",
   "mimetype": "text/x-python",
   "name": "python",
   "nbconvert_exporter": "python",
   "pygments_lexer": "ipython3",
   "version": "3.9.7"
  },
  "toc-autonumbering": true
 },
 "nbformat": 4,
 "nbformat_minor": 4
}
